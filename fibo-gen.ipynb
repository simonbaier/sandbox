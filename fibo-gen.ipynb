{
 "cells": [
  {
   "cell_type": "markdown",
   "metadata": {},
   "source": [
    "# Fibonacci techniques"
   ]
  },
  {
   "cell_type": "markdown",
   "metadata": {
    "collapsed": true
   },
   "source": [
    "\n",
    "* create a dataframe of the first 100 fibonacci numbers\n",
    "* for some reason these are not working ... I suspect it's either a python 2.7-3.6 incompatibility or \n",
    "* from https://stackoverflow.com/questions/494594/how-to-write-the-fibonacci-sequence-in-python\n"
   ]
  },
  {
   "cell_type": "code",
   "execution_count": 1,
   "metadata": {},
   "outputs": [],
   "source": [
    "fib='0'"
   ]
  },
  {
   "cell_type": "code",
   "execution_count": 5,
   "metadata": {},
   "outputs": [
    {
     "name": "stdout",
     "output_type": "stream",
     "text": [
      "5\n"
     ]
    }
   ],
   "source": [
    "def fib(n):\n",
    "    if   n == 0: return 0\n",
    "    elif n == 1: return 1\n",
    "    else: return fib(n-1)+fib(n-2)\n",
    "print(fib(5))"
   ]
  },
  {
   "cell_type": "markdown",
   "metadata": {},
   "source": [
    "The following are from https://technobeans.com/2012/04/16/5-ways-of-fibonacci-in-python/\n"
   ]
  },
  {
   "cell_type": "code",
   "execution_count": 6,
   "metadata": {},
   "outputs": [
    {
     "name": "stdout",
     "output_type": "stream",
     "text": [
      "55\n"
     ]
    }
   ],
   "source": [
    "## Example 1: Using looping technique\n",
    "def fib(n):\n",
    " a,b = 1,1\n",
    " for i in range(n-1):\n",
    "  a,b = b,a+b\n",
    " return a\n",
    "# print(fib(10))\n"
   ]
  },
  {
   "cell_type": "code",
   "execution_count": null,
   "metadata": {},
   "outputs": [],
   "source": [
    "## Example 2: Using recursion\n",
    "def fibR(n):\n",
    " if n==1 or n==2:\n",
    "  return 1\n",
    " return fibR(n-1)+fibR(n-2)\n",
    "print(fibR(50))\n",
    " "
   ]
  },
  {
   "cell_type": "code",
   "execution_count": null,
   "metadata": {},
   "outputs": [],
   "source": [
    "## Example 3: Using generators\n",
    "a,b = 0,1\n",
    "def fibI():\n",
    " global a,b\n",
    " while True:\n",
    "  a,b = b, a+b\n",
    "  yield a\n",
    "f=fibI()\n",
    "f.next()\n",
    "f.next()\n",
    "f.next()\n",
    "f.next()\n",
    "print f.next()\n",
    " "
   ]
  },
  {
   "cell_type": "code",
   "execution_count": null,
   "metadata": {},
   "outputs": [],
   "source": [
    "## Example 4: Using memoization\n",
    "def memoize(fn, arg):\n",
    " memo = {}\n",
    " if arg not in memo:\n",
    "  memo[arg] = fn(arg)\n",
    "  return memo[arg]\n",
    " "
   ]
  },
  {
   "cell_type": "code",
   "execution_count": null,
   "metadata": {},
   "outputs": [],
   "source": [
    "## fib() as written in example 1.\n",
    "fibm = memoize(fib,5)\n",
    "print fibm\n",
    " "
   ]
  },
  {
   "cell_type": "code",
   "execution_count": null,
   "metadata": {},
   "outputs": [],
   "source": [
    "## Example 5: Using memoization as decorator\n",
    "class Memoize:\n",
    " def __init__(self, fn):\n",
    "  self.fn = fn\n",
    "  self.memo = {}\n",
    " def __call__(self, arg):\n",
    "  if arg not in self.memo:\n",
    "   self.memo[arg] = self.fn(arg)\n",
    "   return self.memo[arg]\n",
    " \n",
    "@Memoize\n",
    "def fib(n):\n",
    " a,b = 1,1\n",
    " for i in range(n-1):\n",
    "  a,b = b,a+b\n",
    " return a\n",
    "print fib(5)"
   ]
  },
  {
   "cell_type": "code",
   "execution_count": null,
   "metadata": {},
   "outputs": [],
   "source": [
    "type(fib)\n"
   ]
  },
  {
   "cell_type": "code",
   "execution_count": null,
   "metadata": {},
   "outputs": [],
   "source": [
    "1-2 "
   ]
  },
  {
   "cell_type": "code",
   "execution_count": null,
   "metadata": {},
   "outputs": [],
   "source": []
  },
  {
   "cell_type": "code",
   "execution_count": null,
   "metadata": {},
   "outputs": [],
   "source": []
  }
 ],
 "metadata": {
  "kernelspec": {
   "display_name": "Python 3",
   "language": "python",
   "name": "python3"
  },
  "language_info": {
   "codemirror_mode": {
    "name": "ipython",
    "version": 3
   },
   "file_extension": ".py",
   "mimetype": "text/x-python",
   "name": "python",
   "nbconvert_exporter": "python",
   "pygments_lexer": "ipython3",
   "version": "3.6.3"
  }
 },
 "nbformat": 4,
 "nbformat_minor": 2
}
